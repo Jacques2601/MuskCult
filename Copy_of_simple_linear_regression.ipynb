{
  "nbformat": 4,
  "nbformat_minor": 0,
  "metadata": {
    "colab": {
      "name": "Copy_of_simple_linear_regression.ipynb",
      "provenance": [],
      "collapsed_sections": [],
      "toc_visible": true
    },
    "kernelspec": {
      "name": "python3",
      "display_name": "Python 3"
    }
  },
  "cells": [
    {
      "cell_type": "markdown",
      "metadata": {
        "id": "l_LulNCC8z96"
      },
      "source": [
        "# Simple Linear Regression"
      ]
    },
    {
      "cell_type": "markdown",
      "metadata": {
        "id": "xpXdowrE9DxW"
      },
      "source": [
        "## Importing the libraries"
      ]
    },
    {
      "cell_type": "code",
      "metadata": {
        "id": "nhKd4hWx9GFt"
      },
      "source": [
        "import numpy as np\n",
        "# Allows to work with arrays (data structure containing a group of elements)\n",
        "import matplotlib.pyplot as plt\n",
        "# Allows to plot graphs and charts\n",
        "import pandas as pd\n",
        "# Allows to import dataset,create matrix of features and dependant variable vector"
      ],
      "execution_count": 1,
      "outputs": []
    },
    {
      "cell_type": "markdown",
      "metadata": {
        "id": "6JhpWJi59J1p"
      },
      "source": [
        "## Importing the dataset"
      ]
    },
    {
      "cell_type": "code",
      "metadata": {
        "id": "f8GfYDZ59O18"
      },
      "source": [
        "dataset = pd.read_csv('Self_made_salary_dataset_for_machine_learning_simple_linear_regression.csv')\n",
        "# Simple name # Call pandas library # Call read.csv function from pandas library # Name in single quotes # Creates dataframe (values inside)\n",
        "X = dataset.iloc[:, :-1].values\n",
        "# Matrix of features # Range (takes all rows) # All columns except last one (Independant variables)\n",
        "y = dataset.iloc[:, -1].values\n",
        "# Dependant variable vector # Take indexes of columns and rows we want # Rows # Columns # Take only the last column\n",
        "# Principle = Features vs dependant variable (last column)"
      ],
      "execution_count": 2,
      "outputs": []
    },
    {
      "cell_type": "markdown",
      "metadata": {
        "id": "AyhQaTwP9RzG"
      },
      "source": [
        "## Splitting the dataset into the Training set and Test set"
      ]
    },
    {
      "cell_type": "code",
      "metadata": {
        "id": "bxOOauiN9VpC"
      },
      "source": [
        "# Feature scaling applied after because test set is new set, otherwise info leak (new set). \n",
        "from sklearn.model_selection import train_test_split\n",
        "# From\n",
        "X_train, X_test, y_train, y_test = train_test_split(X, y, test_size = 1/3, random_state = 0)\n",
        "# Matrix of features # Dependant variable # Matrix of features # Dependant variable vector # Split size (more in train_set) # Same random factors (initialise internal random number generator)"
      ],
      "execution_count": 3,
      "outputs": []
    },
    {
      "cell_type": "markdown",
      "metadata": {
        "id": "ZijQwFMQ9itx"
      },
      "source": [
        "## Training the Simple Linear Regression model on the Training set"
      ]
    },
    {
      "cell_type": "code",
      "metadata": {
        "id": "B4Aj_8YJ9l7J",
        "colab": {
          "base_uri": "https://localhost:8080/"
        },
        "outputId": "762eeb05-80d8-4ccf-cb05-278aad1b84b8"
      },
      "source": [
        "from sklearn.linear_model import LinearRegression\n",
        "# Class\n",
        "regressor = LinearRegression()\n",
        "# New variable # New class # No need for new parameters\n",
        "regressor.fit(X_train, y_train)\n",
        "# Training the model # Object # Method # Enter training set in this format"
      ],
      "execution_count": 4,
      "outputs": [
        {
          "output_type": "execute_result",
          "data": {
            "text/plain": [
              "LinearRegression(copy_X=True, fit_intercept=True, n_jobs=None, normalize=False)"
            ]
          },
          "metadata": {
            "tags": []
          },
          "execution_count": 4
        }
      ]
    },
    {
      "cell_type": "markdown",
      "metadata": {
        "id": "wa2T1Lq89o5H"
      },
      "source": [
        "## Predicting the Test set results"
      ]
    },
    {
      "cell_type": "code",
      "metadata": {
        "id": "Rn_sTJ2o9smm"
      },
      "source": [
        "y_pred = regressor.predict(X_test)\n",
        "# Vector with predicted salaries # Object # Method # Features (years of experience)"
      ],
      "execution_count": 5,
      "outputs": []
    },
    {
      "cell_type": "markdown",
      "metadata": {
        "id": "-zSoMZ-P9v8t"
      },
      "source": [
        "## Visualising the Training set results"
      ]
    },
    {
      "cell_type": "code",
      "metadata": {
        "id": "IAePn_u-93tI",
        "colab": {
          "base_uri": "https://localhost:8080/",
          "height": 295
        },
        "outputId": "d9ce015e-c293-44ee-baeb-89b31273b478"
      },
      "source": [
        "# Comes from pyplot in matplotlib\n",
        "plt.scatter(X_train, y_train, color = 'red')\n",
        "# Put pints in 2d plot # Co-ordinates # Color of points\n",
        "plt.plot(X_train, regressor.predict(X_train), color = 'blue')\n",
        "# Plot regression line # Curve of function # Visualising set results # X-co # y-co(vector created)\n",
        "plt.title('Salary vs Experience (Training set)')\n",
        "plt.xlabel('Years of Experience')\n",
        "plt.ylabel('Salary')\n",
        "plt.show()"
      ],
      "execution_count": 6,
      "outputs": [
        {
          "output_type": "display_data",
          "data": {
            "image/png": "[encoded data removed]",
            "text/plain": [
              "<Figure size 432x288 with 1 Axes>"
            ]
          },
          "metadata": {
            "tags": [],
            "needs_background": "light"
          }
        }
      ]
    },
    {
      "cell_type": "markdown",
      "metadata": {
        "id": "EUX1Vhsv97ZT"
      },
      "source": [
        "## Visualising the Test set results"
      ]
    },
    {
      "cell_type": "code",
      "metadata": {
        "id": "Ze9vpBTf-Bol",
        "colab": {
          "base_uri": "https://localhost:8080/",
          "height": 295
        },
        "outputId": "0e9cf4d0-f019-40cc-f60f-421742076fb9"
      },
      "source": [
        "plt.scatter(X_test, y_test, color = 'red')\n",
        "plt.plot(X_train, regressor.predict(X_train), color = 'blue')\n",
        "# Not replace X-train, due to predicted salaries on same regression line(training + test)\n",
        "plt.title('Salary vs Experience (Test set)')\n",
        "plt.xlabel('Years of Experience')\n",
        "plt.ylabel('Salary')\n",
        "plt.show()"
      ],
      "execution_count": 7,
      "outputs": [
        {
          "output_type": "display_data",
          "data": {
            "image/png": "[encoded data removed]",
            "text/plain": [
              "<Figure size 432x288 with 1 Axes>"
            ]
          },
          "metadata": {
            "tags": [],
            "needs_background": "light"
          }
        }
      ]
    }
  ]
}