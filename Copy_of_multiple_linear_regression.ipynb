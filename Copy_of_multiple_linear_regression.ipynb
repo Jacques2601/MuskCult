{
  "nbformat": 4,
  "nbformat_minor": 0,
  "metadata": {
    "colab": {
      "name": "Copy_of_multiple_linear_regression.ipynb",
      "provenance": [],
      "collapsed_sections": [],
      "toc_visible": true
    },
    "kernelspec": {
      "name": "python3",
      "display_name": "Python 3"
    }
  },
  "cells": [
    {
      "cell_type": "markdown",
      "metadata": {
        "id": "CazISR8X_HUG"
      },
      "source": [
        "# Multiple Linear Regression"
      ]
    },
    {
      "cell_type": "markdown",
      "metadata": {
        "id": "pOyqYHTk_Q57"
      },
      "source": [
        "## Importing the libraries"
      ]
    },
    {
      "cell_type": "code",
      "metadata": {
        "id": "T_YHJjnD_Tja"
      },
      "source": [
        "import numpy as np\n",
        "# Allows to work with arrays (data structure containing a group of elements)\n",
        "import matplotlib.pyplot as plt\n",
        "# Allows to plot graphs and charts\n",
        "import pandas as pd\n",
        "# Allows to import dataset,create matrix of features and dependant variable vector"
      ],
      "execution_count": 1,
      "outputs": []
    },
    {
      "cell_type": "markdown",
      "metadata": {
        "id": "vgC61-ah_WIz"
      },
      "source": [
        "## Importing the dataset"
      ]
    },
    {
      "cell_type": "code",
      "metadata": {
        "id": "UrxyEKGn_ez7"
      },
      "source": [
        "dataset = pd.read_csv('Company revenue dataset.csv')\n",
        "# Simple name # Call pandas library # Call read.csv function from pandas library # Name in single quotes # Creates dataframe (values inside)\n",
        "X = dataset.iloc[:, :-1].values\n",
        "# Matrix of features # Range (takes all rows) # All columns except last one (Independant variables)\n",
        "y = dataset.iloc[:, -1].values\n",
        "# Dependant variable vector # Take indexes of columns and rows we want # Rows # Columns # Take only the last column\n",
        "# Principle = Features vs dependant variable (last column)"
      ],
      "execution_count": 2,
      "outputs": []
    },
    {
      "cell_type": "code",
      "metadata": {
        "id": "GOB3QhV9B5kD",
        "colab": {
          "base_uri": "https://localhost:8080/"
        },
        "outputId": "269fc131-633f-4672-e601-163b759972ad"
      },
      "source": [
        "print(X)"
      ],
      "execution_count": 3,
      "outputs": [
        {
          "output_type": "stream",
          "text": [
            "[[82742 135589 110792 'Gauteng']\n",
            " [86506 133953 121829 'Gauteng']\n",
            " [83011 149459 116213 'Gauteng']\n",
            " [80657 134052 120794 'Gauteng']\n",
            " [91762 130462 124515 'Gauteng']\n",
            " [91049 130544 124330 'Gauteng']\n",
            " [91254 138846 125180 'Gauteng']\n",
            " [80118 132733 115963 'Gauteng']\n",
            " [88983 131321 128832 'Gauteng']\n",
            " [90981 146427 124641 'Gauteng']\n",
            " [93422 136868 111058 'Gauteng']\n",
            " [86657 145656 112863 'Gauteng']\n",
            " [91911 145556 116367 'Gauteng']\n",
            " [88877 143728 122857 'Gauteng']\n",
            " [67038 122647 102130 'Western Cape']\n",
            " [72781 128229 92779 'Western Cape']\n",
            " [79530 114404 95046 'Western Cape']\n",
            " [71146 125531 103028 'Western Cape']\n",
            " [72764 114766 103828 'Western Cape']\n",
            " [69222 111056 109595 'Western Cape']\n",
            " [66247 126476 95921 'Western Cape']\n",
            " [79755 124049 104247 'Western Cape']\n",
            " [79115 119506 97056 'Western Cape']\n",
            " [71474 123847 90021 'Western Cape']\n",
            " [71811 129218 106519 'Western Cape']\n",
            " [77115 110580 106858 'Western Cape']\n",
            " [55695 101768 82659 'Kwa-Zulu Natal']\n",
            " [62297 104232 77526 'Kwa-Zulu Natal']\n",
            " [52678 101162 71340 'Kwa-Zulu Natal']\n",
            " [52614 94941 79734 'Kwa-Zulu Natal']\n",
            " [59772 103193 76677 'Kwa-Zulu Natal']\n",
            " [63527 92240 89027 'Kwa-Zulu Natal']\n",
            " [64884 102616 80683 'Kwa-Zulu Natal']\n",
            " [54452 109008 84112 'Kwa-Zulu Natal']\n",
            " [54780 102298 79926 'Kwa-Zulu Natal']\n",
            " [52666 108368 76239 'Kwa-Zulu Natal']\n",
            " [60848 108760 81304 'Kwa-Zulu Natal']\n",
            " [54979 98801 83049 'Kwa-Zulu Natal']\n",
            " [49257 85779 65417 'Eastern Cape']\n",
            " [42382 82397 53412 'Eastern Cape']\n",
            " [37977 85205 69739 'Eastern Cape']\n",
            " [44089 87213 56417 'Eastern Cape']\n",
            " [42346 83627 65624 'Eastern Cape']\n",
            " [45081 86995 52289 'Eastern Cape']\n",
            " [36247 72577 51717 'Eastern Cape']\n",
            " [37223 86104 62188 'Eastern Cape']\n",
            " [42439 77304 62725 'Eastern Cape']\n",
            " [37270 76846 61467 'Eastern Cape']\n",
            " [39734 88265 56590 'Eastern Cape']\n",
            " [40332 76592 60038 'Eastern Cape']]\n"
          ],
          "name": "stdout"
        }
      ]
    },
    {
      "cell_type": "markdown",
      "metadata": {
        "id": "VadrvE7s_lS9"
      },
      "source": [
        "## Encoding categorical data"
      ]
    },
    {
      "cell_type": "code",
      "metadata": {
        "id": "wV3fD1mbAvsh"
      },
      "source": [
        "from sklearn.compose import ColumnTransformer\n",
        "# Import ColumnTransformer which applies transformers to columns of an array or pandas DataFrame  \n",
        "from sklearn.preprocessing import OneHotEncoder\n",
        "# Encodes a binary variable into 0 and 1\n",
        "ct = ColumnTransformer(transformers=[('encoder', OneHotEncoder(), [3])], remainder='passthrough')\n",
        "# List of tuples specifying the transformer objects to be applied to subsets of the data # Only the specified columns in transformers are transformed and combined in the output, and the non-specified columns are dropped. \n",
        "X = np.array(ct.fit_transform(X))\n",
        "# Fits the values into an array"
      ],
      "execution_count": 4,
      "outputs": []
    },
    {
      "cell_type": "code",
      "metadata": {
        "id": "4ym3HdYeCGYG",
        "colab": {
          "base_uri": "https://localhost:8080/"
        },
        "outputId": "d156ba87-0a8b-4f2a-9def-ed6d663ad1ce"
      },
      "source": [
        "print(X)"
      ],
      "execution_count": 5,
      "outputs": [
        {
          "output_type": "stream",
          "text": [
            "[[0.0 1.0 0.0 0.0 82742 135589 110792]\n",
            " [0.0 1.0 0.0 0.0 86506 133953 121829]\n",
            " [0.0 1.0 0.0 0.0 83011 149459 116213]\n",
            " [0.0 1.0 0.0 0.0 80657 134052 120794]\n",
            " [0.0 1.0 0.0 0.0 91762 130462 124515]\n",
            " [0.0 1.0 0.0 0.0 91049 130544 124330]\n",
            " [0.0 1.0 0.0 0.0 91254 138846 125180]\n",
            " [0.0 1.0 0.0 0.0 80118 132733 115963]\n",
            " [0.0 1.0 0.0 0.0 88983 131321 128832]\n",
            " [0.0 1.0 0.0 0.0 90981 146427 124641]\n",
            " [0.0 1.0 0.0 0.0 93422 136868 111058]\n",
            " [0.0 1.0 0.0 0.0 86657 145656 112863]\n",
            " [0.0 1.0 0.0 0.0 91911 145556 116367]\n",
            " [0.0 1.0 0.0 0.0 88877 143728 122857]\n",
            " [0.0 0.0 0.0 1.0 67038 122647 102130]\n",
            " [0.0 0.0 0.0 1.0 72781 128229 92779]\n",
            " [0.0 0.0 0.0 1.0 79530 114404 95046]\n",
            " [0.0 0.0 0.0 1.0 71146 125531 103028]\n",
            " [0.0 0.0 0.0 1.0 72764 114766 103828]\n",
            " [0.0 0.0 0.0 1.0 69222 111056 109595]\n",
            " [0.0 0.0 0.0 1.0 66247 126476 95921]\n",
            " [0.0 0.0 0.0 1.0 79755 124049 104247]\n",
            " [0.0 0.0 0.0 1.0 79115 119506 97056]\n",
            " [0.0 0.0 0.0 1.0 71474 123847 90021]\n",
            " [0.0 0.0 0.0 1.0 71811 129218 106519]\n",
            " [0.0 0.0 0.0 1.0 77115 110580 106858]\n",
            " [0.0 0.0 1.0 0.0 55695 101768 82659]\n",
            " [0.0 0.0 1.0 0.0 62297 104232 77526]\n",
            " [0.0 0.0 1.0 0.0 52678 101162 71340]\n",
            " [0.0 0.0 1.0 0.0 52614 94941 79734]\n",
            " [0.0 0.0 1.0 0.0 59772 103193 76677]\n",
            " [0.0 0.0 1.0 0.0 63527 92240 89027]\n",
            " [0.0 0.0 1.0 0.0 64884 102616 80683]\n",
            " [0.0 0.0 1.0 0.0 54452 109008 84112]\n",
            " [0.0 0.0 1.0 0.0 54780 102298 79926]\n",
            " [0.0 0.0 1.0 0.0 52666 108368 76239]\n",
            " [0.0 0.0 1.0 0.0 60848 108760 81304]\n",
            " [0.0 0.0 1.0 0.0 54979 98801 83049]\n",
            " [1.0 0.0 0.0 0.0 49257 85779 65417]\n",
            " [1.0 0.0 0.0 0.0 42382 82397 53412]\n",
            " [1.0 0.0 0.0 0.0 37977 85205 69739]\n",
            " [1.0 0.0 0.0 0.0 44089 87213 56417]\n",
            " [1.0 0.0 0.0 0.0 42346 83627 65624]\n",
            " [1.0 0.0 0.0 0.0 45081 86995 52289]\n",
            " [1.0 0.0 0.0 0.0 36247 72577 51717]\n",
            " [1.0 0.0 0.0 0.0 37223 86104 62188]\n",
            " [1.0 0.0 0.0 0.0 42439 77304 62725]\n",
            " [1.0 0.0 0.0 0.0 37270 76846 61467]\n",
            " [1.0 0.0 0.0 0.0 39734 88265 56590]\n",
            " [1.0 0.0 0.0 0.0 40332 76592 60038]]\n"
          ],
          "name": "stdout"
        }
      ]
    },
    {
      "cell_type": "markdown",
      "metadata": {
        "id": "WemVnqgeA70k"
      },
      "source": [
        "## Splitting the dataset into the Training set and Test set"
      ]
    },
    {
      "cell_type": "code",
      "metadata": {
        "id": "Kb_v_ae-A-20"
      },
      "source": [
        "from sklearn.model_selection import train_test_split\n",
        "# Import the training and test set splitter from sklearn\n",
        "X_train, X_test, y_train, y_test = train_test_split(X, y, test_size = 0.2, random_state = 0)\n",
        "# X and y are the arrays # test size 0.2 is the proportion of the dataset included in the test split # Controls the shuffling applied to the data before applying the split "
      ],
      "execution_count": 6,
      "outputs": []
    },
    {
      "cell_type": "markdown",
      "metadata": {
        "id": "k-McZVsQBINc"
      },
      "source": [
        "## Training the Multiple Linear Regression model on the Training set"
      ]
    },
    {
      "cell_type": "code",
      "metadata": {
        "id": "ywPjx0L1BMiD",
        "colab": {
          "base_uri": "https://localhost:8080/"
        },
        "outputId": "2ef802a6-14d0-4ecf-e994-ea60bec908d9"
      },
      "source": [
        "from sklearn.linear_model import LinearRegression\n",
        "# Import the linear regression model from sk learn \n",
        "regressor = LinearRegression()\n",
        "# Use the linear regressor to show the relationship between the dependant and independant variables\n",
        "regressor.fit(X_train, y_train)\n",
        "# Train the model on the training set"
      ],
      "execution_count": 7,
      "outputs": [
        {
          "output_type": "execute_result",
          "data": {
            "text/plain": [
              "LinearRegression(copy_X=True, fit_intercept=True, n_jobs=None, normalize=False)"
            ]
          },
          "metadata": {
            "tags": []
          },
          "execution_count": 7
        }
      ]
    },
    {
      "cell_type": "markdown",
      "metadata": {
        "id": "xNkXL1YQBiBT"
      },
      "source": [
        "## Predicting the Test set results"
      ]
    },
    {
      "cell_type": "code",
      "metadata": {
        "id": "TQKmwvtdBkyb",
        "colab": {
          "base_uri": "https://localhost:8080/"
        },
        "outputId": "1c08e75b-d4b3-464f-f792-58296d0a29ba"
      },
      "source": [
        "y_pred = regressor.predict(X_test)\n",
        "# Use multiple linear regression to predict the results of the test set\n",
        "np.set_printoptions(precision=2)\n",
        "# Number of digits of precision for floating point output\n",
        "print(np.concatenate((y_pred.reshape(len(y_pred),1), y_test.reshape(len(y_test),1)),1))\n",
        "# Join a sequence of arrays along an existing axis # Gives a new shape to an array without changing its data "
      ],
      "execution_count": 8,
      "outputs": [
        {
          "output_type": "stream",
          "text": [
            "[[638618.4  674649.  ]\n",
            " [836232.56 826167.  ]\n",
            " [824852.41 844558.  ]\n",
            " [541111.38 504590.  ]\n",
            " [843819.58 896700.  ]\n",
            " [633470.6  630424.  ]\n",
            " [541561.23 564618.  ]\n",
            " [636915.95 601107.  ]\n",
            " [746181.76 794589.  ]\n",
            " [834570.68 820906.  ]]\n"
          ],
          "name": "stdout"
        }
      ]
    }
  ]
}